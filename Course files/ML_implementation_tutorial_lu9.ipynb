{
 "cells": [
  {
   "cell_type": "markdown",
   "metadata": {},
   "source": [
    "<div class=\"alert alert-warning\" style=\"margin: 10px\"><strong>WARNING!</strong> do NOT run the cells directly above the example output shown, <br>otherwise you will end up writing over the example output!</div>"
   ]
  },
  {
   "cell_type": "code",
   "execution_count": 1,
   "metadata": {},
   "outputs": [],
   "source": [
    "import os\n",
    "import matplotlib.pyplot as plt\n",
    "import scikitplot as skplt\n",
    "import numpy as np\n",
    "import pandas as pd\n",
    "from IPython.display import display\n"
   ]
  },
  {
   "cell_type": "markdown",
   "metadata": {
    "tags": []
   },
   "source": [
    "# <font color=crimson>   Exercise - Combining Multiple Learners </font> \n",
    "For the Wisconsin Cancer dataset, create the following ensemble classifiers:\n",
    "\n",
    "Bagged decision tree\n",
    "\n",
    "Random forest\n",
    "\n",
    "Adaboost\n",
    "\n",
    "Using cross-validation (proportion 0.7/0.3).\n",
    "\n",
    "Check the accuracy for in out-of-sample data sets.\n",
    "\n",
    "\n",
    "BONUS: Staking example"
   ]
  },
  {
   "cell_type": "markdown",
   "metadata": {
    "tags": []
   },
   "source": [
    "## <font color=crimson>  Load Breast Cancer  data </font> "
   ]
  },
  {
   "cell_type": "code",
   "execution_count": 2,
   "metadata": {},
   "outputs": [
    {
     "data": {
      "text/html": [
       "<div>\n",
       "<style scoped>\n",
       "    .dataframe tbody tr th:only-of-type {\n",
       "        vertical-align: middle;\n",
       "    }\n",
       "\n",
       "    .dataframe tbody tr th {\n",
       "        vertical-align: top;\n",
       "    }\n",
       "\n",
       "    .dataframe thead th {\n",
       "        text-align: right;\n",
       "    }\n",
       "</style>\n",
       "<table border=\"1\" class=\"dataframe\">\n",
       "  <thead>\n",
       "    <tr style=\"text-align: right;\">\n",
       "      <th></th>\n",
       "      <th>radius_mean</th>\n",
       "      <th>texture_mean</th>\n",
       "      <th>perimeter_mean</th>\n",
       "      <th>area_mean</th>\n",
       "      <th>smoothness_mean</th>\n",
       "      <th>compactness_mean</th>\n",
       "      <th>concavity_mean</th>\n",
       "      <th>concave points_mean</th>\n",
       "      <th>symmetry_mean</th>\n",
       "      <th>fractal_dimension_mean</th>\n",
       "      <th>...</th>\n",
       "      <th>radius_worst</th>\n",
       "      <th>texture_worst</th>\n",
       "      <th>perimeter_worst</th>\n",
       "      <th>area_worst</th>\n",
       "      <th>smoothness_worst</th>\n",
       "      <th>compactness_worst</th>\n",
       "      <th>concavity_worst</th>\n",
       "      <th>concave points_worst</th>\n",
       "      <th>symmetry_worst</th>\n",
       "      <th>fractal_dimension_worst</th>\n",
       "    </tr>\n",
       "  </thead>\n",
       "  <tbody>\n",
       "    <tr>\n",
       "      <th>0</th>\n",
       "      <td>17.99</td>\n",
       "      <td>10.38</td>\n",
       "      <td>122.8</td>\n",
       "      <td>1001.0</td>\n",
       "      <td>0.11840</td>\n",
       "      <td>0.27760</td>\n",
       "      <td>0.3001</td>\n",
       "      <td>0.14710</td>\n",
       "      <td>0.2419</td>\n",
       "      <td>0.07871</td>\n",
       "      <td>...</td>\n",
       "      <td>25.38</td>\n",
       "      <td>17.33</td>\n",
       "      <td>184.6</td>\n",
       "      <td>2019.0</td>\n",
       "      <td>0.1622</td>\n",
       "      <td>0.6656</td>\n",
       "      <td>0.7119</td>\n",
       "      <td>0.2654</td>\n",
       "      <td>0.4601</td>\n",
       "      <td>0.11890</td>\n",
       "    </tr>\n",
       "    <tr>\n",
       "      <th>1</th>\n",
       "      <td>20.57</td>\n",
       "      <td>17.77</td>\n",
       "      <td>132.9</td>\n",
       "      <td>1326.0</td>\n",
       "      <td>0.08474</td>\n",
       "      <td>0.07864</td>\n",
       "      <td>0.0869</td>\n",
       "      <td>0.07017</td>\n",
       "      <td>0.1812</td>\n",
       "      <td>0.05667</td>\n",
       "      <td>...</td>\n",
       "      <td>24.99</td>\n",
       "      <td>23.41</td>\n",
       "      <td>158.8</td>\n",
       "      <td>1956.0</td>\n",
       "      <td>0.1238</td>\n",
       "      <td>0.1866</td>\n",
       "      <td>0.2416</td>\n",
       "      <td>0.1860</td>\n",
       "      <td>0.2750</td>\n",
       "      <td>0.08902</td>\n",
       "    </tr>\n",
       "  </tbody>\n",
       "</table>\n",
       "<p>2 rows × 30 columns</p>\n",
       "</div>"
      ],
      "text/plain": [
       "   radius_mean  texture_mean  perimeter_mean  area_mean  smoothness_mean  \\\n",
       "0        17.99         10.38           122.8     1001.0          0.11840   \n",
       "1        20.57         17.77           132.9     1326.0          0.08474   \n",
       "\n",
       "   compactness_mean  concavity_mean  concave points_mean  symmetry_mean  \\\n",
       "0           0.27760          0.3001              0.14710         0.2419   \n",
       "1           0.07864          0.0869              0.07017         0.1812   \n",
       "\n",
       "   fractal_dimension_mean  ...  radius_worst  texture_worst  perimeter_worst  \\\n",
       "0                 0.07871  ...         25.38          17.33            184.6   \n",
       "1                 0.05667  ...         24.99          23.41            158.8   \n",
       "\n",
       "   area_worst  smoothness_worst  compactness_worst  concavity_worst  \\\n",
       "0      2019.0            0.1622             0.6656           0.7119   \n",
       "1      1956.0            0.1238             0.1866           0.2416   \n",
       "\n",
       "   concave points_worst  symmetry_worst  fractal_dimension_worst  \n",
       "0                0.2654          0.4601                  0.11890  \n",
       "1                0.1860          0.2750                  0.08902  \n",
       "\n",
       "[2 rows x 30 columns]"
      ]
     },
     "metadata": {},
     "output_type": "display_data"
    },
    {
     "data": {
      "text/plain": [
       "0    M\n",
       "1    M\n",
       "Name: diagnosis, dtype: object"
      ]
     },
     "metadata": {},
     "output_type": "display_data"
    }
   ],
   "source": [
    "# RUN THIS CELL\n",
    "df = pd.read_csv(\"../data/BreastCancer.csv\")\n",
    "target = df['diagnosis']\n",
    "del df['diagnosis']\n",
    "del df['id']\n",
    "\n",
    "display(df.head(2))\n",
    "display(target.head(2))"
   ]
  },
  {
   "cell_type": "markdown",
   "metadata": {},
   "source": [
    "## <font color=crimson>  Create a decision tree </font> "
   ]
  },
  {
   "cell_type": "code",
   "execution_count": 3,
   "metadata": {},
   "outputs": [
    {
     "name": "stdout",
     "output_type": "stream",
     "text": [
      "in sample accuracy: 1.0\n",
      "out sample accuracy: 0.9707602339181286\n",
      "DecisionTree Classifier confusion matrice: \n",
      "\n",
      "[[106   3]\n",
      " [  2  60]]\n"
     ]
    }
   ],
   "source": [
    "# RUN THIS CELL - A decision tree is created for  comparison purposes at the end\n",
    "\n",
    "from sklearn import tree\n",
    "from sklearn.metrics import accuracy_score\n",
    "from sklearn.metrics import confusion_matrix\n",
    "from sklearn.model_selection import train_test_split\n",
    "X_train,X_test, y_train, y_test = train_test_split(df, target, test_size=.3, random_state=3680)\n",
    "\n",
    "modelTree = tree.DecisionTreeClassifier()\n",
    "modelTree.fit(X_train, y_train)\n",
    "print('in sample accuracy:',modelTree.score(X_train, y_train))\n",
    "print('out sample accuracy:',modelTree.score(X_test, y_test))\n",
    "\n",
    "y_pred= modelTree.predict(X_test)\n",
    "print('DecisionTree Classifier confusion matrice: \\n')\n",
    "print(confusion_matrix(y_test,y_pred))"
   ]
  },
  {
   "cell_type": "markdown",
   "metadata": {},
   "source": [
    "## <font color=crimson>  Bagging Classifier example </font> "
   ]
  },
  {
   "cell_type": "code",
   "execution_count": 4,
   "metadata": {},
   "outputs": [],
   "source": [
    "# RUN THIS CELL - ALL sklearn packages are being uploaded here.\n",
    "from sklearn.metrics import confusion_matrix\n",
    "from sklearn.metrics import classification_report\n",
    "from sklearn import model_selection\n",
    "from sklearn.ensemble import AdaBoostClassifier, BaggingClassifier, RandomForestClassifier, VotingClassifier\n",
    "from sklearn.tree import DecisionTreeClassifier\n",
    "from sklearn.neighbors import KNeighborsClassifier\n",
    "from sklearn.linear_model import LogisticRegression\n",
    "from sklearn.naive_bayes import GaussianNB\n",
    "\n"
   ]
  },
  {
   "cell_type": "code",
   "execution_count": 5,
   "metadata": {},
   "outputs": [],
   "source": [
    "## CODE HERE - Bagging Classifier example"
   ]
  },
  {
   "cell_type": "code",
   "execution_count": 6,
   "metadata": {},
   "outputs": [
    {
     "data": {
      "text/plain": [
       "array([[109,   0],\n",
       "       [  3,  59]], dtype=int64)"
      ]
     },
     "metadata": {},
     "output_type": "display_data"
    },
    {
     "name": "stdout",
     "output_type": "stream",
     "text": [
      "Classification report\n",
      "               precision    recall  f1-score   support\n",
      "\n",
      "           B       0.97      1.00      0.99       109\n",
      "           M       1.00      0.95      0.98        62\n",
      "\n",
      "    accuracy                           0.98       171\n",
      "   macro avg       0.99      0.98      0.98       171\n",
      "weighted avg       0.98      0.98      0.98       171\n",
      "\n"
     ]
    }
   ],
   "source": [
    "#DON'T WRITE HERE\n",
    "seed = 1\n",
    "num_trees = 100\n",
    "\n",
    "cart = DecisionTreeClassifier()\n",
    "BAG = BaggingClassifier(base_estimator=cart, n_estimators=num_trees, random_state=seed)\n",
    "BAG.fit(X_train, y_train)\n",
    "predictions1 =BAG.predict(X_test)\n",
    "cm = confusion_matrix(y_test, predictions1)\n",
    "display(cm)\n",
    "print('Classification report\\n',classification_report(y_test, BAG.predict(X_test)))"
   ]
  },
  {
   "cell_type": "markdown",
   "metadata": {},
   "source": [
    "## <font color=crimson>  Random Forest example </font> "
   ]
  },
  {
   "cell_type": "code",
   "execution_count": 7,
   "metadata": {},
   "outputs": [],
   "source": [
    "## CODE HERE - Random Forest Example"
   ]
  },
  {
   "cell_type": "code",
   "execution_count": 8,
   "metadata": {},
   "outputs": [
    {
     "name": "stdout",
     "output_type": "stream",
     "text": [
      "testing CM\n",
      " [[108   1]\n",
      " [  2  60]]\n",
      "Classification report\n",
      "               precision    recall  f1-score   support\n",
      "\n",
      "           B       0.98      0.99      0.99       109\n",
      "           M       0.98      0.97      0.98        62\n",
      "\n",
      "    accuracy                           0.98       171\n",
      "   macro avg       0.98      0.98      0.98       171\n",
      "weighted avg       0.98      0.98      0.98       171\n",
      "\n"
     ]
    }
   ],
   "source": [
    "## DON'T WRITE HERE\n",
    "seed = 1\n",
    "num_trees = 300\n",
    "max_features = 6\n",
    "seed = 1\n",
    "num_trees = 300\n",
    "max_features = 6\n",
    "RF = RandomForestClassifier(n_estimators=num_trees, max_features=max_features)\n",
    "RF.fit(X_train,y_train)\n",
    "\n",
    "print('testing CM\\n',confusion_matrix(y_test, RF.predict(X_test)))\n",
    "print('Classification report\\n',classification_report(y_test, RF.predict(X_test)))"
   ]
  },
  {
   "cell_type": "markdown",
   "metadata": {},
   "source": [
    "## <font color=crimson>  ADABOOST example </font> "
   ]
  },
  {
   "cell_type": "code",
   "execution_count": 9,
   "metadata": {},
   "outputs": [],
   "source": [
    "## CODE HERE"
   ]
  },
  {
   "cell_type": "code",
   "execution_count": 10,
   "metadata": {},
   "outputs": [
    {
     "name": "stdout",
     "output_type": "stream",
     "text": [
      "Confusion Matrix\n",
      " [[105   4]\n",
      " [  3  59]]\n",
      "Classification report\n",
      "               precision    recall  f1-score   support\n",
      "\n",
      "           B       0.97      0.96      0.97       109\n",
      "           M       0.94      0.95      0.94        62\n",
      "\n",
      "    accuracy                           0.96       171\n",
      "   macro avg       0.95      0.96      0.96       171\n",
      "weighted avg       0.96      0.96      0.96       171\n",
      "\n"
     ]
    }
   ],
   "source": [
    "# DON'T WRITE HERE - Adaboost Example\n",
    "\n",
    "seed = 1\n",
    "num_trees = 700\n",
    "ADA = AdaBoostClassifier(\n",
    "    DecisionTreeClassifier(),\n",
    "    n_estimators=num_trees, random_state=seed\n",
    ")\n",
    "ADA.fit(X_train,y_train)\n",
    "\n",
    "print('Confusion Matrix\\n',confusion_matrix(y_test, ADA.predict(X_test)))\n",
    "print('Classification report\\n',classification_report(y_test, ADA.predict(X_test)))\n"
   ]
  },
  {
   "cell_type": "markdown",
   "metadata": {},
   "source": [
    "## <font color=crimson>  Voting Classifer example </font> "
   ]
  },
  {
   "cell_type": "code",
   "execution_count": 11,
   "metadata": {},
   "outputs": [],
   "source": [
    "## CODE HERE- Voting Classifier\n",
    "from sklearn import preprocessing\n",
    "from sklearn.preprocessing import StandardScaler\n"
   ]
  },
  {
   "cell_type": "code",
   "execution_count": 12,
   "metadata": {},
   "outputs": [
    {
     "name": "stdout",
     "output_type": "stream",
     "text": [
      "testing CM\n",
      " [[108   1]\n",
      " [  1  61]]\n",
      "Classification report\n",
      "               precision    recall  f1-score   support\n",
      "\n",
      "           B       0.99      0.99      0.99       109\n",
      "           M       0.98      0.98      0.98        62\n",
      "\n",
      "    accuracy                           0.99       171\n",
      "   macro avg       0.99      0.99      0.99       171\n",
      "weighted avg       0.99      0.99      0.99       171\n",
      "\n"
     ]
    }
   ],
   "source": [
    "# DON'T WRITE HERE - Voting Classifier Example\n",
    "\n",
    "scl = StandardScaler()\n",
    "X_train_scaled = pd.DataFrame(scl.fit_transform(X_train), columns=X_train.columns)\n",
    "X_test_scaled = pd.DataFrame(scl.transform(X_test), columns=X_train.columns)\n",
    "\n",
    "\n",
    "seed =42\n",
    "LRclf  = LogisticRegression(solver='lbfgs', multi_class='multinomial',max_iter=250,random_state=seed)\n",
    "NBclf  = GaussianNB()\n",
    "KNNclf = KNeighborsClassifier(n_neighbors=3)\n",
    "\n",
    "Ensclf = VotingClassifier(estimators=[  ('lr', LRclf), ('nb', NBclf), ('knn', KNNclf)], voting='soft')\n",
    "\n",
    "Ensclf.fit(X_train_scaled, y_train)\n",
    "print('testing CM\\n',confusion_matrix(y_test, Ensclf.predict(X_test_scaled )))\n",
    "print('Classification report\\n',classification_report(y_test, Ensclf.predict(X_test_scaled )))\n"
   ]
  },
  {
   "cell_type": "code",
   "execution_count": 13,
   "metadata": {},
   "outputs": [
    {
     "name": "stdout",
     "output_type": "stream",
     "text": [
      "LogisticRegression 0.9766081871345029\n",
      "GaussianNB 0.9766081871345029\n",
      "KNeighborsClassifier 0.9824561403508771\n",
      "VotingClassifier 0.9883040935672515\n"
     ]
    }
   ],
   "source": [
    "for clf in [LRclf, NBclf,KNNclf, Ensclf]:\n",
    "    clf.fit(X_train_scaled, y_train)\n",
    "    y_pred = clf.predict(X_test_scaled)\n",
    "    print(clf.__class__.__name__, accuracy_score(y_test, y_pred))\n"
   ]
  },
  {
   "cell_type": "markdown",
   "metadata": {},
   "source": [
    "## <font color=crimson>  Stacking example </font> "
   ]
  },
  {
   "cell_type": "markdown",
   "metadata": {},
   "source": [
    "### <font color=crimson> Single-Layer Stacking Classifier example </font> "
   ]
  },
  {
   "cell_type": "code",
   "execution_count": 14,
   "metadata": {},
   "outputs": [
    {
     "name": "stdout",
     "output_type": "stream",
     "text": [
      "Stacking:  0.9824561403508771\n"
     ]
    }
   ],
   "source": [
    "# Building a Single-Layer Stacking Classifier\n",
    "from sklearn.ensemble import RandomForestClassifier, StackingClassifier\n",
    "from sklearn.linear_model import LogisticRegression\n",
    "from sklearn.naive_bayes import GaussianNB\n",
    "from sklearn.metrics import accuracy_score\n",
    "from sklearn.pipeline import make_pipeline\n",
    "from sklearn.preprocessing import StandardScaler\n",
    "\n",
    "base_learners = [\n",
    "    ('rf_1', RandomForestClassifier(random_state=42)),\n",
    "    ('nb_1', GaussianNB())\n",
    "]\n",
    "stack_clf = StackingClassifier(estimators=base_learners, final_estimator=make_pipeline(StandardScaler(),LogisticRegression()))\n",
    "print(\"Stacking: \", stack_clf.fit(X_train, y_train).score(X_test, y_test))\n"
   ]
  },
  {
   "cell_type": "markdown",
   "metadata": {},
   "source": [
    "### <font color=crimson> Multi-Layer Stacking Classifier example </font> "
   ]
  },
  {
   "cell_type": "code",
   "execution_count": 15,
   "metadata": {},
   "outputs": [
    {
     "name": "stdout",
     "output_type": "stream",
     "text": [
      "Multi-layer Stacking:  0.9766081871345029\n"
     ]
    }
   ],
   "source": [
    "# Building a Multi-Layer Stacking Classifier\n",
    "from sklearn.neighbors import KNeighborsClassifier\n",
    "from sklearn.tree import DecisionTreeClassifier\n",
    "from sklearn.preprocessing import StandardScaler\n",
    "from sklearn.pipeline import make_pipeline\n",
    "base_2_learners = [\n",
    "    ('knn_1',make_pipeline(StandardScaler(), KNeighborsClassifier()) ),\n",
    "    ('rf_2', RandomForestClassifier(n_estimators=100, random_state=42))\n",
    "]\n",
    "\n",
    "layer2 = StackingClassifier(estimators=base_2_learners, final_estimator=make_pipeline(StandardScaler(),LogisticRegression()))\n",
    "stack_multi_clf = StackingClassifier(estimators=base_learners, final_estimator=layer2)\n",
    "\n",
    "print(\"Multi-layer Stacking: \", stack_multi_clf.fit(X_train, y_train).score(X_test, y_test))"
   ]
  },
  {
   "cell_type": "markdown",
   "metadata": {},
   "source": [
    "### Exercise 2 - Expected Values\n",
    "\n",
    "\n",
    "Take the confusion matrices of the previous exercise, assume:\n",
    "\n",
    "Cost 1 for FP\n",
    "\n",
    "Cost 100 for FN\n",
    "\n",
    "Cost 0 for TP\n",
    "\n",
    "Cost 0 for TN \n",
    "\n",
    "Given the costs, which is the best classifier?\n"
   ]
  },
  {
   "cell_type": "markdown",
   "metadata": {},
   "source": [
    "$EV[X] = \\sum_{i=1}^{k}x_ip_i=x_1p_1+x_2p_2+\\cdots+x_kp_k$ \n",
    "\n",
    "\n",
    "$EV[X]= b(Y,p)\\times p(Y,p) + b(Y,n)\\times p(Y,n) +b(N,n)\\times p(N,n)+b(N,p)\\times p(N,p)  $\n",
    "\n",
    "$EV[X]= 0\\times p(Y,p) - 100\\times p(Y,n) + 0\\times p(N,n) - 1\\times p(N,p)  $\n",
    "\n",
    "\n",
    "CM from ENsclf\n",
    " [[104   4]\n",
    " [  6  57]]\n",
    " \n",
    " p(Y,p) = 57/171  = CM[1,1]/171\n",
    " \n",
    " p(N,n) = 104/171 = CM[0,0]/171\n",
    " \n",
    " p(Y,n) = 6/171 = CM[1,0]/171\n",
    " \n",
    " p(N,p) = 4/171 = CM[0,1]/171"
   ]
  },
  {
   "cell_type": "code",
   "execution_count": 16,
   "metadata": {},
   "outputs": [
    {
     "data": {
      "text/plain": [
       "array([[109,   0],\n",
       "       [ 52,  10]], dtype=int64)"
      ]
     },
     "execution_count": 16,
     "metadata": {},
     "output_type": "execute_result"
    }
   ],
   "source": [
    "confusion_matrix(y_test, RF.predict(X_test_scaled ))"
   ]
  },
  {
   "cell_type": "code",
   "execution_count": 17,
   "metadata": {},
   "outputs": [
    {
     "name": "stdout",
     "output_type": "stream",
     "text": [
      "Expected Value for Ensclf is -63.74269005847953\n",
      "Expected Value for ADA is -177.77777777777777\n",
      "Expected Value for RF is -117.54385964912281\n",
      "Expected Value for BAG is -175.43859649122805\n"
     ]
    }
   ],
   "source": [
    "## CODE HERE - Expected values\n",
    "for mod, name in zip([Ensclf,ADA, RF, BAG],['Ensclf','ADA','RF', 'BAG']):\n",
    "    PFP = 100*confusion_matrix(y_test, mod.predict(X_test))[0,1]/confusion_matrix(y_test, mod.predict(X_test)).sum()\n",
    "    PFN = 100*confusion_matrix(y_test, mod.predict(X_test))[1,0]/confusion_matrix(y_test, mod.predict(X_test)).sum()\n",
    "    EV = -100*PFN - 1*PFP\n",
    "    print('Expected Value for',name, 'is', EV)"
   ]
  },
  {
   "cell_type": "code",
   "execution_count": null,
   "metadata": {},
   "outputs": [],
   "source": []
  }
 ],
 "metadata": {
  "kernelspec": {
   "display_name": "Python 3",
   "language": "python",
   "name": "python3"
  },
  "language_info": {
   "codemirror_mode": {
    "name": "ipython",
    "version": 3
   },
   "file_extension": ".py",
   "mimetype": "text/x-python",
   "name": "python",
   "nbconvert_exporter": "python",
   "pygments_lexer": "ipython3",
   "version": "3.8.5"
  }
 },
 "nbformat": 4,
 "nbformat_minor": 4
}
